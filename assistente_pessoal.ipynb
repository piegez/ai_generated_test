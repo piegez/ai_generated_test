{
  "nbformat": 4,
  "nbformat_minor": 0,
  "metadata": {
    "colab": {
      "provenance": [],
      "authorship_tag": "ABX9TyNsDcAyKG0iQp0tHHWxlMtc",
      "include_colab_link": true
    },
    "kernelspec": {
      "name": "python3",
      "display_name": "Python 3"
    },
    "language_info": {
      "name": "python"
    }
  },
  "cells": [
    {
      "cell_type": "markdown",
      "metadata": {
        "id": "view-in-github",
        "colab_type": "text"
      },
      "source": [
        "<a href=\"https://colab.research.google.com/github/piegez/ai_generated_test/blob/main/assistente_pessoal.ipynb\" target=\"_parent\"><img src=\"https://colab.research.google.com/assets/colab-badge.svg\" alt=\"Open In Colab\"/></a>"
      ]
    },
    {
      "cell_type": "code",
      "execution_count": 24,
      "metadata": {
        "colab": {
          "base_uri": "https://localhost:8080/"
        },
        "id": "QGy3rpazxtaq",
        "outputId": "93328ce9-c185-4d5c-a4ca-422dfe345786"
      },
      "outputs": [
        {
          "output_type": "stream",
          "name": "stdout",
          "text": [
            "Reading package lists... Done\n",
            "Building dependency tree... Done\n",
            "Reading state information... Done\n",
            "portaudio19-dev is already the newest version (19.6.0-1.1).\n",
            "0 upgraded, 0 newly installed, 0 to remove and 19 not upgraded.\n",
            "Requirement already satisfied: pyaudio in /usr/local/lib/python3.11/dist-packages (0.2.14)\n",
            "Requirement already satisfied: speechrecognition in /usr/local/lib/python3.11/dist-packages (3.14.1)\n",
            "Requirement already satisfied: typing-extensions in /usr/local/lib/python3.11/dist-packages (from speechrecognition) (4.12.2)\n",
            "Requirement already satisfied: speechrecognition in /usr/local/lib/python3.11/dist-packages (3.14.1)\n",
            "Requirement already satisfied: gtts in /usr/local/lib/python3.11/dist-packages (2.5.4)\n",
            "Requirement already satisfied: pydub in /usr/local/lib/python3.11/dist-packages (0.25.1)\n",
            "Requirement already satisfied: wikipedia in /usr/local/lib/python3.11/dist-packages (1.4.0)\n",
            "Requirement already satisfied: pywhatkit in /usr/local/lib/python3.11/dist-packages (5.4)\n",
            "Requirement already satisfied: typing-extensions in /usr/local/lib/python3.11/dist-packages (from speechrecognition) (4.12.2)\n",
            "Requirement already satisfied: requests<3,>=2.27 in /usr/local/lib/python3.11/dist-packages (from gtts) (2.32.3)\n",
            "Requirement already satisfied: click<8.2,>=7.1 in /usr/local/lib/python3.11/dist-packages (from gtts) (8.1.8)\n",
            "Requirement already satisfied: beautifulsoup4 in /usr/local/lib/python3.11/dist-packages (from wikipedia) (4.13.1)\n",
            "Requirement already satisfied: Pillow in /usr/local/lib/python3.11/dist-packages (from pywhatkit) (11.1.0)\n",
            "Requirement already satisfied: pyautogui in /usr/local/lib/python3.11/dist-packages (from pywhatkit) (0.9.54)\n",
            "Requirement already satisfied: Flask in /usr/local/lib/python3.11/dist-packages (from pywhatkit) (3.1.0)\n",
            "Requirement already satisfied: charset-normalizer<4,>=2 in /usr/local/lib/python3.11/dist-packages (from requests<3,>=2.27->gtts) (3.4.1)\n",
            "Requirement already satisfied: idna<4,>=2.5 in /usr/local/lib/python3.11/dist-packages (from requests<3,>=2.27->gtts) (3.10)\n",
            "Requirement already satisfied: urllib3<3,>=1.21.1 in /usr/local/lib/python3.11/dist-packages (from requests<3,>=2.27->gtts) (2.3.0)\n",
            "Requirement already satisfied: certifi>=2017.4.17 in /usr/local/lib/python3.11/dist-packages (from requests<3,>=2.27->gtts) (2025.1.31)\n",
            "Requirement already satisfied: soupsieve>1.2 in /usr/local/lib/python3.11/dist-packages (from beautifulsoup4->wikipedia) (2.6)\n",
            "Requirement already satisfied: Werkzeug>=3.1 in /usr/local/lib/python3.11/dist-packages (from Flask->pywhatkit) (3.1.3)\n",
            "Requirement already satisfied: Jinja2>=3.1.2 in /usr/local/lib/python3.11/dist-packages (from Flask->pywhatkit) (3.1.5)\n",
            "Requirement already satisfied: itsdangerous>=2.2 in /usr/local/lib/python3.11/dist-packages (from Flask->pywhatkit) (2.2.0)\n",
            "Requirement already satisfied: blinker>=1.9 in /usr/local/lib/python3.11/dist-packages (from Flask->pywhatkit) (1.9.0)\n",
            "Requirement already satisfied: python3-Xlib in /usr/local/lib/python3.11/dist-packages (from pyautogui->pywhatkit) (0.15)\n",
            "Requirement already satisfied: pymsgbox in /usr/local/lib/python3.11/dist-packages (from pyautogui->pywhatkit) (1.0.9)\n",
            "Requirement already satisfied: pytweening>=1.0.4 in /usr/local/lib/python3.11/dist-packages (from pyautogui->pywhatkit) (1.2.0)\n",
            "Requirement already satisfied: pyscreeze>=0.1.21 in /usr/local/lib/python3.11/dist-packages (from pyautogui->pywhatkit) (1.0.1)\n",
            "Requirement already satisfied: pygetwindow>=0.0.5 in /usr/local/lib/python3.11/dist-packages (from pyautogui->pywhatkit) (0.0.9)\n",
            "Requirement already satisfied: mouseinfo in /usr/local/lib/python3.11/dist-packages (from pyautogui->pywhatkit) (0.1.3)\n",
            "Requirement already satisfied: MarkupSafe>=2.0 in /usr/local/lib/python3.11/dist-packages (from Jinja2>=3.1.2->Flask->pywhatkit) (3.0.2)\n",
            "Requirement already satisfied: pyrect in /usr/local/lib/python3.11/dist-packages (from pygetwindow>=0.0.5->pyautogui->pywhatkit) (0.2.0)\n",
            "Requirement already satisfied: pyperclip in /usr/local/lib/python3.11/dist-packages (from mouseinfo->pyautogui->pywhatkit) (1.9.0)\n",
            "Reading package lists... Done\n",
            "Building dependency tree... Done\n",
            "Reading state information... Done\n",
            "ffmpeg is already the newest version (7:4.4.2-0ubuntu0.22.04.1).\n",
            "0 upgraded, 0 newly installed, 0 to remove and 19 not upgraded.\n",
            "Get:1 http://security.ubuntu.com/ubuntu jammy-security InRelease [129 kB]\n",
            "Get:2 https://cloud.r-project.org/bin/linux/ubuntu jammy-cran40/ InRelease [3,626 B]\n",
            "Get:3 https://r2u.stat.illinois.edu/ubuntu jammy InRelease [6,555 B]\n",
            "Hit:4 https://developer.download.nvidia.com/compute/cuda/repos/ubuntu2204/x86_64  InRelease\n",
            "Hit:5 http://archive.ubuntu.com/ubuntu jammy InRelease\n",
            "Get:6 http://archive.ubuntu.com/ubuntu jammy-updates InRelease [128 kB]\n",
            "Get:7 http://security.ubuntu.com/ubuntu jammy-security/main amd64 Packages [2,606 kB]\n",
            "Get:8 https://r2u.stat.illinois.edu/ubuntu jammy/main all Packages [8,660 kB]\n",
            "Get:9 http://security.ubuntu.com/ubuntu jammy-security/universe amd64 Packages [1,230 kB]\n",
            "Get:10 https://ppa.launchpadcontent.net/deadsnakes/ppa/ubuntu jammy InRelease [18.1 kB]\n",
            "Hit:11 https://ppa.launchpadcontent.net/graphics-drivers/ppa/ubuntu jammy InRelease\n",
            "Get:12 http://archive.ubuntu.com/ubuntu jammy-backports InRelease [127 kB]\n",
            "Hit:13 https://ppa.launchpadcontent.net/ubuntugis/ppa/ubuntu jammy InRelease\n",
            "Get:14 https://r2u.stat.illinois.edu/ubuntu jammy/main amd64 Packages [2,653 kB]\n",
            "Get:15 http://archive.ubuntu.com/ubuntu jammy-updates/universe amd64 Packages [1,523 kB]\n",
            "Get:16 http://archive.ubuntu.com/ubuntu jammy-updates/main amd64 Packages [2,907 kB]\n",
            "Fetched 20.0 MB in 2s (8,102 kB/s)\n",
            "Reading package lists... Done\n",
            "Building dependency tree... Done\n",
            "Reading state information... Done\n",
            "27 packages can be upgraded. Run 'apt list --upgradable' to see them.\n",
            "\u001b[1;33mW: \u001b[0mSkipping acquire of configured file 'main/source/Sources' as repository 'https://r2u.stat.illinois.edu/ubuntu jammy InRelease' does not seem to provide it (sources.list entry misspelt?)\u001b[0m\n",
            "Reading package lists... Done\n",
            "Building dependency tree... Done\n",
            "Reading state information... Done\n",
            "ffmpeg is already the newest version (7:4.4.2-0ubuntu0.22.04.1).\n",
            "The following additional packages will be installed:\n",
            "  espeak-data libsonic0\n",
            "The following NEW packages will be installed:\n",
            "  espeak espeak-data libespeak1 libsonic0\n",
            "0 upgraded, 4 newly installed, 0 to remove and 27 not upgraded.\n",
            "Need to get 1,316 kB of archives.\n",
            "After this operation, 2,955 kB of additional disk space will be used.\n",
            "Get:1 http://archive.ubuntu.com/ubuntu jammy/main amd64 libsonic0 amd64 0.2.0-11build1 [10.3 kB]\n",
            "Get:2 http://archive.ubuntu.com/ubuntu jammy/universe amd64 espeak-data amd64 1.48.15+dfsg-3 [1,085 kB]\n",
            "Get:3 http://archive.ubuntu.com/ubuntu jammy/universe amd64 libespeak1 amd64 1.48.15+dfsg-3 [156 kB]\n",
            "Get:4 http://archive.ubuntu.com/ubuntu jammy/universe amd64 espeak amd64 1.48.15+dfsg-3 [64.2 kB]\n",
            "Fetched 1,316 kB in 1s (1,311 kB/s)\n",
            "Selecting previously unselected package libsonic0:amd64.\n",
            "(Reading database ... 125533 files and directories currently installed.)\n",
            "Preparing to unpack .../libsonic0_0.2.0-11build1_amd64.deb ...\n",
            "Unpacking libsonic0:amd64 (0.2.0-11build1) ...\n",
            "Selecting previously unselected package espeak-data:amd64.\n",
            "Preparing to unpack .../espeak-data_1.48.15+dfsg-3_amd64.deb ...\n",
            "Unpacking espeak-data:amd64 (1.48.15+dfsg-3) ...\n",
            "Selecting previously unselected package libespeak1:amd64.\n",
            "Preparing to unpack .../libespeak1_1.48.15+dfsg-3_amd64.deb ...\n",
            "Unpacking libespeak1:amd64 (1.48.15+dfsg-3) ...\n",
            "Selecting previously unselected package espeak.\n",
            "Preparing to unpack .../espeak_1.48.15+dfsg-3_amd64.deb ...\n",
            "Unpacking espeak (1.48.15+dfsg-3) ...\n",
            "Setting up libsonic0:amd64 (0.2.0-11build1) ...\n",
            "Setting up espeak-data:amd64 (1.48.15+dfsg-3) ...\n",
            "Setting up libespeak1:amd64 (1.48.15+dfsg-3) ...\n",
            "Setting up espeak (1.48.15+dfsg-3) ...\n",
            "Processing triggers for man-db (2.10.2-1) ...\n",
            "Processing triggers for libc-bin (2.35-0ubuntu3.8) ...\n",
            "/sbin/ldconfig.real: /usr/local/lib/libtbb.so.12 is not a symbolic link\n",
            "\n",
            "/sbin/ldconfig.real: /usr/local/lib/libtbbmalloc_proxy.so.2 is not a symbolic link\n",
            "\n",
            "/sbin/ldconfig.real: /usr/local/lib/libur_adapter_opencl.so.0 is not a symbolic link\n",
            "\n",
            "/sbin/ldconfig.real: /usr/local/lib/libtbbbind.so.3 is not a symbolic link\n",
            "\n",
            "/sbin/ldconfig.real: /usr/local/lib/libtbbmalloc.so.2 is not a symbolic link\n",
            "\n",
            "/sbin/ldconfig.real: /usr/local/lib/libur_adapter_level_zero.so.0 is not a symbolic link\n",
            "\n",
            "/sbin/ldconfig.real: /usr/local/lib/libtbbbind_2_5.so.3 is not a symbolic link\n",
            "\n",
            "/sbin/ldconfig.real: /usr/local/lib/libtbbbind_2_0.so.3 is not a symbolic link\n",
            "\n",
            "/sbin/ldconfig.real: /usr/local/lib/libtcm_debug.so.1 is not a symbolic link\n",
            "\n",
            "/sbin/ldconfig.real: /usr/local/lib/libtcm.so.1 is not a symbolic link\n",
            "\n",
            "/sbin/ldconfig.real: /usr/local/lib/libur_loader.so.0 is not a symbolic link\n",
            "\n",
            "/sbin/ldconfig.real: /usr/local/lib/libhwloc.so.15 is not a symbolic link\n",
            "\n",
            "/sbin/ldconfig.real: /usr/local/lib/libumf.so.0 is not a symbolic link\n",
            "\n",
            "Requirement already satisfied: pyttsx3 in /usr/local/lib/python3.11/dist-packages (2.98)\n",
            "Requirement already satisfied: pyaudio in /usr/local/lib/python3.11/dist-packages (0.2.14)\n"
          ]
        }
      ],
      "source": [
        "!apt-get install -y portaudio19-dev\n",
        "!pip install pyaudio\n",
        "!pip install --upgrade speechrecognition\n",
        "!pip install speechrecognition gtts pydub wikipedia pywhatkit\n",
        "!apt-get install -y ffmpeg\n",
        "!apt update -y\n",
        "!apt install -y espeak ffmpeg libespeak1\n",
        "!pip install pyttsx3 pyaudio\n"
      ]
    },
    {
      "cell_type": "code",
      "source": [
        "from gtts import gTTS\n",
        "import IPython.display as display\n",
        "\n",
        "def text_to_speech(text, lang='pt'):\n",
        "    tts = gTTS(text=text, lang=lang)\n",
        "    tts.save(\"audio.mp3\")\n",
        "    display.display(display.Audio(\"audio.mp3\", autoplay=True))\n",
        "\n",
        "text_to_speech(\"Olá, Jessica! Como posso te ajudar?\")"
      ],
      "metadata": {
        "colab": {
          "base_uri": "https://localhost:8080/",
          "height": 75
        },
        "id": "B1JS4KgayLDq",
        "outputId": "2c4fa3c9-9cc8-4dbc-bc29-c582d77cd118"
      },
      "execution_count": 9,
      "outputs": [
        {
          "output_type": "display_data",
          "data": {
            "text/plain": [
              "<IPython.lib.display.Audio object>"
            ],
            "text/html": [
              "\n",
              "                <audio  controls=\"controls\" autoplay=\"autoplay\">\n",
              "                    <source src=\"data:audio/mpeg;base64,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\" type=\"audio/mpeg\" />\n",
              "                    Your browser does not support the audio element.\n",
              "                </audio>\n",
              "              "
            ]
          },
          "metadata": {}
        }
      ]
    },
    {
      "cell_type": "code",
      "source": [
        "!pip install pydub\n",
        "\n",
        "import speech_recognition as sr\n",
        "from pydub import AudioSegment\n",
        "\n",
        "def speech_to_text_from_file(audio_file):\n",
        "    # Convert mp3 to wav\n",
        "    sound = AudioSegment.from_mp3(audio_file)\n",
        "    sound.export(\"temp_audio.wav\", format=\"wav\")\n",
        "\n",
        "    recognizer = sr.Recognizer()\n",
        "    with sr.AudioFile(\"temp_audio.wav\") as source: # Use the converted WAV file\n",
        "        audio = recognizer.record(source)\n",
        "\n",
        "    try:\n",
        "        text = recognizer.recognize_google(audio, language=\"pt-BR\")\n",
        "        print(\"Texto reconhecido:\", text)\n",
        "        return text\n",
        "    except sr.UnknownValueError:\n",
        "        print(\"Não foi possível reconhecer o áudio.\")\n",
        "    except sr.RequestError:\n",
        "        print(\"Erro ao conectar com o serviço de reconhecimento de voz.\")\n",
        "\n",
        "speech_to_text_from_file(\"COLOQUE AQUI O ENDEREÇO DO AUDIO\")"
      ],
      "metadata": {
        "colab": {
          "base_uri": "https://localhost:8080/",
          "height": 160
        },
        "id": "qDJi1Lw1yNIn",
        "outputId": "efcbb62a-a0ec-4c2c-ba51-ef90f78bada1"
      },
      "execution_count": 12,
      "outputs": [
        {
          "output_type": "stream",
          "name": "stdout",
          "text": [
            "Requirement already satisfied: pydub in /usr/local/lib/python3.11/dist-packages (0.25.1)\n",
            "Texto reconhecido: me formei em administração em 2015 e tenho mestrado na mesma área depois da graduação em ambas as áreas eu decidi começar a trabalhar com professores de inglês pois era apaixonada por ensinar durante os seis anos que passei dando aula de inglês estudei mais e obtive alguns certificados sendo mais importantes e a far-se one um documento vitalício que comprova o meu nível avançado de inglês anos depois em 2023 especificamente passei por um processo de autoavaliação e decidi fazer transição de carreira retornando desenvolvedora full CEP essa decisão foi influenciada pelo fato que sempre trabalhei com tecnologia durante a vida na faculdade fazia renda extra consertando computadores dos meus colegas de sala onde tornei professor de inglês eu fui promovida a coordenadora de tecnologia Depois de dois anos de empresa agora eu sou voluntária em dois projetos estão medicamento tornar uma desenvolvedora melhor\n"
          ]
        },
        {
          "output_type": "execute_result",
          "data": {
            "text/plain": [
              "'me formei em administração em 2015 e tenho mestrado na mesma área depois da graduação em ambas as áreas eu decidi começar a trabalhar com professores de inglês pois era apaixonada por ensinar durante os seis anos que passei dando aula de inglês estudei mais e obtive alguns certificados sendo mais importantes e a far-se one um documento vitalício que comprova o meu nível avançado de inglês anos depois em 2023 especificamente passei por um processo de autoavaliação e decidi fazer transição de carreira retornando desenvolvedora full CEP essa decisão foi influenciada pelo fato que sempre trabalhei com tecnologia durante a vida na faculdade fazia renda extra consertando computadores dos meus colegas de sala onde tornei professor de inglês eu fui promovida a coordenadora de tecnologia Depois de dois anos de empresa agora eu sou voluntária em dois projetos estão medicamento tornar uma desenvolvedora melhor'"
            ],
            "application/vnd.google.colaboratory.intrinsic+json": {
              "type": "string"
            }
          },
          "metadata": {},
          "execution_count": 12
        }
      ]
    },
    {
      "cell_type": "code",
      "source": [
        "!pip install pyttsx3\n",
        "import speech_recognition as sr\n",
        "import pyttsx3\n",
        "import wikipedia\n",
        "import webbrowser\n",
        "\n",
        "def text_to_speech(text):\n",
        "    engine = pyttsx3.init()\n",
        "    engine.say(text)\n",
        "    engine.runAndWait()\n",
        "\n",
        "def speech_to_text(audio_file):\n",
        "    recognizer = sr.Recognizer()\n",
        "    with sr.AudioFile(audio_file) as source:\n",
        "        print(\"Processando áudio...\")\n",
        "        audio = recognizer.record(source)\n",
        "\n",
        "    try:\n",
        "        text = recognizer.recognize_google(audio, language=\"pt-BR\")\n",
        "        print(\"Texto reconhecido:\", text)\n",
        "        return text\n",
        "    except sr.UnknownValueError:\n",
        "        print(\"Não foi possível entender o áudio.\")\n",
        "    except sr.RequestError:\n",
        "        print(\"Erro ao acessar o serviço de reconhecimento.\")\n",
        "    return None\n",
        "\n",
        "def assistente_virtual(audio_file):\n",
        "    comando = speech_to_text(audio_file)\n",
        "\n",
        "    if comando:\n",
        "        comando = comando.lower()\n",
        "\n",
        "        if \"pesquisar por\" in comando:\n",
        "            termo = comando.replace(\"pesquisar por\", \"\").strip()\n",
        "            wikipedia.set_lang(\"pt\")\n",
        "            resultado = wikipedia.summary(termo, sentences=2)\n",
        "            print(resultado)\n",
        "            text_to_speech(resultado)\n",
        "\n",
        "        elif \"abrir youtube\" in comando:\n",
        "            text_to_speech(\"Abrindo YouTube\")\n",
        "            webbrowser.open(\"https://www.youtube.com\")\n",
        "\n",
        "        elif \"farmácia mais próxima\" in comando:\n",
        "            text_to_speech(\"Abrindo localização da farmácia mais próxima.\")\n",
        "            webbrowser.open(\"https://www.google.com/maps/search/farmácia+próxima\")\n",
        "\n",
        "\n",
        "audio_path = \"AUDIO LINK\"\n",
        "assistente_virtual(audio_path)"
      ],
      "metadata": {
        "id": "CldvKwvqyubF",
        "colab": {
          "base_uri": "https://localhost:8080/"
        },
        "outputId": "d17ed2b6-de4c-45b4-c73d-496ad5c79cb6"
      },
      "execution_count": 25,
      "outputs": [
        {
          "output_type": "stream",
          "name": "stdout",
          "text": [
            "Requirement already satisfied: pyttsx3 in /usr/local/lib/python3.11/dist-packages (2.98)\n",
            "Processando áudio...\n",
            "Texto reconhecido: farmácia mais próxima\n"
          ]
        }
      ]
    }
  ]
}